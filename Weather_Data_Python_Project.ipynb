{
  "nbformat": 4,
  "nbformat_minor": 0,
  "metadata": {
    "colab": {
      "provenance": [],
      "authorship_tag": "ABX9TyMDsidRk22cQB/ql+pRlyYL",
      "include_colab_link": true
    },
    "kernelspec": {
      "name": "python3",
      "display_name": "Python 3"
    },
    "language_info": {
      "name": "python"
    }
  },
  "cells": [
    {
      "cell_type": "markdown",
      "metadata": {
        "id": "view-in-github",
        "colab_type": "text"
      },
      "source": [
        "<a href=\"https://colab.research.google.com/github/jfr11101/MyProjects/blob/main/Weather_Data_Python_Project.ipynb\" target=\"_parent\"><img src=\"https://colab.research.google.com/assets/colab-badge.svg\" alt=\"Open In Colab\"/></a>"
      ]
    },
    {
      "cell_type": "code",
      "execution_count": null,
      "metadata": {
        "id": "28vXTDADQDcf"
      },
      "outputs": [],
      "source": [
        "import csv\n",
        "import requests\n",
        "from geopy.geocoders import Nominatim\n",
        "\n",
        "geolocator = Nominatim(user_agent='Jafar Mirahmadi')\n",
        "api_key = '9ebe41a55a60d357c3e2905adbf5fc82'\n",
        "\n",
        "cities = ['Tehran','Buenos Aires','Copenhagen', 'London', 'Paris', 'Berlin', 'Athens', 'Mahallat', 'Dublin', 'Tokyo',\n",
        "          'Luxembourg', 'Mexico City', 'Oslo', 'Lisbon', 'Bucharest', 'San Marino', 'Belgrade', 'Seoul', 'Madrid', 'Bern',\n",
        "          'Stockholm', 'Bangkok', 'Taipei', 'Ankara', 'Abu Dhabi', 'Washington D.C.', 'Montevideo', 'Tashkent', 'Hanoi', 'Cardiff',\n",
        "          'Vienna', 'Yerevan', 'Nassau', 'Rome', 'Kingston', 'Amman', 'Astana', 'Nairobi', 'Pristina', 'Bishkek', 'Vientiane', 'Riga',\n",
        "          'Maseru', 'Monrovia', 'Tripoli', 'Antananarivo', 'Male', 'Majuro', 'Podgorica', 'Amsterdam']\n"
      ]
    },
    {
      "cell_type": "code",
      "source": [
        "def get_lat_lon(city):\n",
        "    location = geolocator.geocode(city)\n",
        "    lat = location.raw['lat']\n",
        "    lon = location.raw['lon']\n",
        "    return (lat, lon)"
      ],
      "metadata": {
        "id": "LaXWaFrlQK5b"
      },
      "execution_count": null,
      "outputs": []
    },
    {
      "cell_type": "code",
      "source": [
        "def get_weather(cities, api_key):\n",
        "\n",
        "    coordinates = [get_lat_lon(city) for city in cities]\n",
        "    weather_data = []\n",
        "\n",
        "    filename = f\"weather.csv\"\n",
        "    with open(filename, \"w\", newline='') as file:\n",
        "        writer = csv.writer(file)\n",
        "        writer.writerow([\"Coordinates\", \"City Name\", \"Country\",\n",
        "                         \"Temperature (°С)\", \"Minimum Temperature\",\n",
        "                         \"Maximum Temperature\", \"Humidity (%)\",\n",
        "                         \"Wind Speed (m/s)\", \"Description\", \"Next 5 Days\"]) # Write header\n",
        "\n",
        "        for i in range(len(coordinates)):\n",
        "            lat = coordinates[i][0]\n",
        "            lon = coordinates[i][1]\n",
        "            base_url = f\"https://api.openweathermap.org/data/2.5/weather?lat={lat}&lon={lon}&appid={api_key}\"\n",
        "\n",
        "            response = requests.get(base_url)\n",
        "\n",
        "            data = response.json()\n",
        "\n",
        "            cityName        = data['name']\n",
        "            country         = data['sys']['country']\n",
        "            temp            = data['main']['temp'] - 273.15 # change to °С\n",
        "            temp_min        = data['main']['temp_min'] - 273.15\n",
        "            temp_max        = data['main']['temp_max'] - 273.15\n",
        "            wind_speed      = data['wind']['speed']\n",
        "            humidity        = data['main']['humidity']\n",
        "            current_weather = data['weather'][0]['description']\n",
        "            coordinate      = data['coord']\n",
        "\n",
        "            next5Days = [] #5 Day Forecast List\n",
        "            base_url = f'http://api.openweathermap.org/data/2.5/find?q={cityName}&appid={api_key}' # Find ID of city to search in forecast\n",
        "            response = requests.get(base_url)\n",
        "            data = response.json()\n",
        "            id = data['list'][0]['id'] # get id of city\n",
        "\n",
        "            base_url = f\"http://api.openweathermap.org/data/2.5/forecast?id={id}&appid={api_key}\"\n",
        "            response = requests.get(base_url)\n",
        "            data = response.json()\n",
        "\n",
        "            for dt in range(40):\n",
        "                  dt_tuple = (data['list'][dt]['dt_txt'],\n",
        "                              data['list'][dt]['main']['temp_min']-273.15,\n",
        "                              data['list'][dt]['main']['temp_max']-273.15,\n",
        "                              data['list'][dt]['main']['humidity'],\n",
        "                              data['list'][dt]['weather'][0]['description'],\n",
        "                              data['list'][dt]['wind']['speed'])\n",
        "                  next5Days.append(dt_tuple)\n",
        "\n",
        "            writer.writerow([coordinate, cityName, country,\n",
        "                             temp, temp_min, temp_max,\n",
        "                             humidity, wind_speed,\n",
        "                             current_weather, next5Days])\n",
        "\n"
      ],
      "metadata": {
        "id": "qSKo9h8BQEqb"
      },
      "execution_count": null,
      "outputs": []
    },
    {
      "cell_type": "code",
      "source": [
        "get_weather(cities, api_key)"
      ],
      "metadata": {
        "colab": {
          "base_uri": "https://localhost:8080/"
        },
        "id": "H2YI1pm0p1gO",
        "outputId": "b83f3ca2-f923-4eb4-ea62-8bdcc8d050a3"
      },
      "execution_count": null,
      "outputs": [
        {
          "output_type": "stream",
          "name": "stderr",
          "text": [
            "WARNING:urllib3.connectionpool:Retrying (Retry(total=1, connect=None, read=None, redirect=None, status=None)) after connection broken by 'ReadTimeoutError(\"HTTPSConnectionPool(host='nominatim.openstreetmap.org', port=443): Read timed out. (read timeout=1)\")': /search?q=Tehran&format=json&limit=1\n",
            "WARNING:urllib3.connectionpool:Retrying (Retry(total=0, connect=None, read=None, redirect=None, status=None)) after connection broken by 'ReadTimeoutError(\"HTTPSConnectionPool(host='nominatim.openstreetmap.org', port=443): Read timed out. (read timeout=1)\")': /search?q=Tehran&format=json&limit=1\n",
            "WARNING:urllib3.connectionpool:Retrying (Retry(total=1, connect=None, read=None, redirect=None, status=None)) after connection broken by 'ReadTimeoutError(\"HTTPSConnectionPool(host='nominatim.openstreetmap.org', port=443): Read timed out. (read timeout=1)\")': /search?q=Mexico+City&format=json&limit=1\n",
            "WARNING:urllib3.connectionpool:Retrying (Retry(total=1, connect=None, read=None, redirect=None, status=None)) after connection broken by 'ReadTimeoutError(\"HTTPSConnectionPool(host='nominatim.openstreetmap.org', port=443): Read timed out. (read timeout=1)\")': /search?q=Oslo&format=json&limit=1\n",
            "WARNING:urllib3.connectionpool:Retrying (Retry(total=0, connect=None, read=None, redirect=None, status=None)) after connection broken by 'ReadTimeoutError(\"HTTPSConnectionPool(host='nominatim.openstreetmap.org', port=443): Read timed out. (read timeout=1)\")': /search?q=Oslo&format=json&limit=1\n",
            "WARNING:urllib3.connectionpool:Retrying (Retry(total=1, connect=None, read=None, redirect=None, status=None)) after connection broken by 'ReadTimeoutError(\"HTTPSConnectionPool(host='nominatim.openstreetmap.org', port=443): Read timed out. (read timeout=1)\")': /search?q=Ankara&format=json&limit=1\n",
            "WARNING:urllib3.connectionpool:Retrying (Retry(total=1, connect=None, read=None, redirect=None, status=None)) after connection broken by 'ReadTimeoutError(\"HTTPSConnectionPool(host='nominatim.openstreetmap.org', port=443): Read timed out. (read timeout=1)\")': /search?q=Amman&format=json&limit=1\n"
          ]
        }
      ]
    },
    {
      "cell_type": "code",
      "source": [],
      "metadata": {
        "id": "wbUCriyXp3tC"
      },
      "execution_count": null,
      "outputs": []
    }
  ]
}