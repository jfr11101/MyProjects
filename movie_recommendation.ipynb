{
  "nbformat": 4,
  "nbformat_minor": 0,
  "metadata": {
    "colab": {
      "provenance": [],
      "authorship_tag": "ABX9TyNUL83IBJqOJXZ8tSLSOg8+",
      "include_colab_link": true
    },
    "kernelspec": {
      "name": "python3",
      "display_name": "Python 3"
    },
    "language_info": {
      "name": "python"
    }
  },
  "cells": [
    {
      "cell_type": "markdown",
      "metadata": {
        "id": "view-in-github",
        "colab_type": "text"
      },
      "source": [
        "<a href=\"https://colab.research.google.com/github/jfr11101/MyProjects/blob/main/movie_recommendation.ipynb\" target=\"_parent\"><img src=\"https://colab.research.google.com/assets/colab-badge.svg\" alt=\"Open In Colab\"/></a>"
      ]
    },
    {
      "cell_type": "code",
      "execution_count": 1,
      "metadata": {
        "id": "81TwLF9mfyU1"
      },
      "outputs": [],
      "source": [
        "from bs4 import BeautifulSoup as soup\n",
        "import re\n",
        "import requests as req\n"
      ]
    },
    {
      "cell_type": "code",
      "source": [
        "emotion = input('Enter the emotion \\n (Sad, Disgust, Anger, Anticipation, Fear, Enjoyment, Trust, Surprise):')"
      ],
      "metadata": {
        "colab": {
          "base_uri": "https://localhost:8080/"
        },
        "id": "KCYamSrelBIy",
        "outputId": "1b0dcb50-2b31-4a67-ef25-da81b84662c6"
      },
      "execution_count": 3,
      "outputs": [
        {
          "name": "stdout",
          "output_type": "stream",
          "text": [
            "Enter the emotion \n",
            " (Sad, Disgust, Anger, Anticipation, Fear, Enjoyment, Trust, Surprise):Fear\n"
          ]
        }
      ]
    },
    {
      "cell_type": "code",
      "source": [
        "if(emotion == \"Sad\"):\n",
        "  urlhere = 'http://www.imdb.com/search/title?genres=drama&title_type=feature&sort=moviemeter, asc'\n",
        "\n",
        "elif(emotion == \"Disgust\"):\n",
        "  urlhere = 'http://www.imdb.com/search/title?genres=musical&title_type=feature&sort=moviemeter, asc'\n",
        "\n",
        "elif(emotion == \"Anger\"):\n",
        "  urlhere = 'http://www.imdb.com/search/title?genres=family&title_type=feature&sort=moviemeter, asc'\n",
        "\n",
        "elif(emotion == \"Anticipation\"):\n",
        "  urlhere = 'http://www.imdb.com/search/title?genres=thriller&title_type=feature&sort=moviemeter, asc'\n",
        "\n",
        "elif(emotion == \"Fear\"):\n",
        "  urlhere = 'http://www.imdb.com/search/title?genres=sport&title_type=feature&sort=moviemeter, asc'\n",
        "\n",
        "elif(emotion == \"Enjoyment\"):\n",
        "  urlhere = 'http://www.imdb.com/search/title?genres=thriller&title_type=feature&sort=moviemeter, asc'\n",
        "\n",
        "elif(emotion == \"Trust\"):\n",
        "  urlhere = 'http://www.imdb.com/search/title?genres=western&title_type=feature&sort=moviemeter, asc'\n",
        "\n",
        "elif(emotion == \"Surprise\"):\n",
        "  urlhere = 'http://www.imdb.com/search/title?genres=film_noir&title_type=feature&sort=moviemeter, asc'\n",
        "\n",
        "else:\n",
        "  print('Incorrent emotion!!!')\n",
        "\n",
        "response = req.get(urlhere)\n",
        "response"
      ],
      "metadata": {
        "colab": {
          "base_uri": "https://localhost:8080/"
        },
        "id": "cwvr96_KlnLY",
        "outputId": "b7412fb1-5318-492f-b504-e8341ef846d7"
      },
      "execution_count": 5,
      "outputs": [
        {
          "output_type": "execute_result",
          "data": {
            "text/plain": [
              "<Response [200]>"
            ]
          },
          "metadata": {},
          "execution_count": 5
        }
      ]
    },
    {
      "cell_type": "code",
      "source": [
        "data   = response.text\n",
        "result = soup(data, 'lxml')"
      ],
      "metadata": {
        "id": "ZdigoQQloGaL"
      },
      "execution_count": 7,
      "outputs": []
    },
    {
      "cell_type": "code",
      "source": [
        "# Extract movie titles from the data using regex (href=/title/tt15339570/)\n",
        "Movies_title = result.find_all('a',\n",
        "                               attrs={'href':re.compile(r'\\/title\\/tt+\\d*\\/')})\n"
      ],
      "metadata": {
        "id": "2q_NMKo4p6pI"
      },
      "execution_count": 12,
      "outputs": []
    },
    {
      "cell_type": "code",
      "source": [
        "print(Movies_title)"
      ],
      "metadata": {
        "id": "CDAq83wXrsSM"
      },
      "execution_count": null,
      "outputs": []
    },
    {
      "cell_type": "code",
      "source": [
        "count = 0\n",
        "\n",
        "if(emotion == \"Disgust\" or emotion == \"Anger\" or emotion == \"Surprise\"):\n",
        "\n",
        "  for i in Movies_title:\n",
        "\n",
        "\t\t\t# Splitting each line of the IMDb data to scrape movies\n",
        "\t\t\ttmp = str(i).split('>;')\n",
        "\n",
        "\t\t\tif(len(tmp) == 3):\n",
        "\t\t\t\tprint(tmp[1][:-3])\n",
        "\n",
        "\t\t\tif(count > 13):\n",
        "\t\t\t\tbreak\n",
        "\t\t\tcount += 1\n",
        "else:\n",
        "\n",
        "  for i in Movies_title:\n",
        "\t\t\ttmp = str(i).split('>')\n",
        "\n",
        "\t\t\tif(len(tmp) == 3):\n",
        "\t\t\t\tprint(tmp[1][:-3])\n",
        "\n",
        "\t\t\tif(count > 11):\n",
        "\t\t\t\tbreak\n",
        "\t\t\tcount += 1\n"
      ],
      "metadata": {
        "colab": {
          "base_uri": "https://localhost:8080/"
        },
        "id": "f-WfcGyoqfRK",
        "outputId": "8a869640-5056-48f4-82ba-a05a45fe136f"
      },
      "execution_count": 15,
      "outputs": [
        {
          "output_type": "stream",
          "name": "stdout",
          "text": [
            "Gran Turismo\n",
            "Cassandro\n",
            "Champions\n",
            "Air\n"
          ]
        }
      ]
    },
    {
      "cell_type": "code",
      "source": [],
      "metadata": {
        "id": "icGoo7fCrhTN"
      },
      "execution_count": null,
      "outputs": []
    }
  ]
}